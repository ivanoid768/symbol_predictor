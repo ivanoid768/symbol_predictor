{
 "cells": [
  {
   "cell_type": "code",
   "execution_count": 192,
   "metadata": {},
   "outputs": [],
   "source": [
    "import numpy as np\n",
    "import matplotlib.pyplot as plt"
   ]
  },
  {
   "cell_type": "code",
   "execution_count": 193,
   "metadata": {},
   "outputs": [
    {
     "name": "stdout",
     "output_type": "stream",
     "text": [
      "len(letters)=32\n",
      "502\n",
      "letters=['a', 'b', 'c', 'd', 'e', 'f', 'g', 'h', 'i', 'j', 'k', 'l', 'm', 'n', 'o', 'p', 'q', 'r', 's', 't', 'u', 'v', 'w', 'x', 'y', 'z', ' ', '.', ',', '<', \"'\", '>']\n"
     ]
    }
   ],
   "source": [
    "from loaders import clean_text_for_pattern_letter\n",
    "from temp_text_puh import template_str\n",
    "# input_str = clean_text_for_pattern_letter(template_str, out_len=len(template_str))\n",
    "input_str = clean_text_for_pattern_letter(template_str, out_len=500)\n",
    "input_str = '<' + input_str + '>'\n",
    "print(len(input_str))\n",
    "letters = ['a', 'b', 'c', 'd', 'e', 'f', 'g', 'h', 'i', 'j', 'k', 'l', 'm', 'n', 'o', 'p', 'q', 'r', 's', 't', 'u',\n",
    "           'v', 'w', 'x', 'y', 'z', ' ', '.', ',', '<', '\\'', '>']\n",
    "print(f'{letters=}')\n",
    "# print(f'{input_str=}')"
   ]
  },
  {
   "cell_type": "code",
   "execution_count": 194,
   "metadata": {},
   "outputs": [
    {
     "name": "stdout",
     "output_type": "stream",
     "text": [
      "a : 4 [0, 0, 0, 0, 0, 0, 0, 0, 0, 1, 0, 0, 0, 0, 0, 0, 0, 0, 0, 0, 0, 0, 0, 0, 0, 0, 0, 0, 0, 0, 0, 0, 0, 0, 0, 0, 0, 0, 0, 0, 0, 0, 0, 0, 0, 0, 0, 0, 0, 0, 1, 0, 0, 0, 0, 0, 0, 0, 0, 0, 0, 0, 0, 0, 0, 0, 0, 0, 0, 0, 0, 0, 0, 0, 0, 0, 0, 0, 0, 0, 0, 0, 0, 0, 0, 0, 0, 0, 0, 0, 0, 0, 0, 0, 0, 0, 0, 0, 0, 0, 0, 0, 0, 0, 1, 0, 0, 0, 0, 0, 0, 0, 0, 0, 1, 0, 0, 0, 0, 0, 0, 0, 0, 0, 0, 0, 0, 0]\n",
      "b : 4 [0, 0, 0, 0, 0, 1, 0, 0, 0, 0, 1, 0, 0, 0, 0, 1, 0, 0, 0, 0, 0, 0, 0, 0, 0, 0, 0, 0, 0, 0, 0, 0, 0, 0, 0, 0, 0, 0, 0, 0, 0, 0, 0, 0, 0, 0, 0, 0, 0, 0, 0, 0, 0, 0, 0, 0, 0, 0, 0, 0, 0, 0, 0, 0, 0, 0, 0, 0, 0, 0, 0, 0, 0, 0, 0, 0, 0, 0, 0, 0, 0, 0, 1, 0, 0, 0, 0, 0, 0, 0, 0, 0, 0, 0, 0, 0, 0, 0, 0, 0, 0, 0, 0, 0, 0, 0, 0, 0, 0, 0, 0, 0, 0, 0, 0, 0, 0, 0, 0, 0, 0, 0, 0, 0, 0, 0, 0, 0]\n",
      "c : 4 [0, 1, 0, 0, 0, 0, 0, 0, 0, 0, 0, 0, 0, 0, 0, 0, 0, 0, 0, 0, 0, 0, 0, 0, 0, 1, 0, 0, 0, 0, 0, 0, 0, 0, 0, 0, 0, 0, 0, 0, 0, 0, 0, 0, 0, 0, 0, 0, 0, 0, 0, 0, 0, 0, 0, 0, 0, 0, 0, 0, 0, 0, 0, 0, 0, 0, 0, 0, 0, 0, 0, 0, 0, 0, 0, 0, 0, 0, 0, 0, 0, 0, 0, 0, 0, 1, 0, 0, 1, 0, 0, 0, 0, 0, 0, 0, 0, 0, 0, 0, 0, 0, 0, 0, 0, 0, 0, 0, 0, 0, 0, 0, 0, 0, 0, 0, 0, 0, 0, 0, 0, 0, 0, 0, 0, 0, 0, 0]\n",
      "d : 4 [0, 0, 0, 0, 0, 0, 0, 0, 0, 0, 0, 0, 0, 0, 0, 0, 0, 0, 0, 0, 0, 1, 0, 0, 0, 0, 0, 0, 0, 0, 0, 0, 0, 0, 0, 0, 0, 0, 1, 0, 0, 0, 0, 0, 0, 0, 0, 0, 0, 0, 0, 0, 0, 0, 0, 0, 0, 0, 0, 0, 0, 0, 0, 0, 0, 0, 0, 0, 0, 0, 0, 0, 0, 0, 0, 0, 0, 0, 0, 0, 0, 0, 0, 0, 0, 0, 0, 0, 0, 0, 0, 0, 0, 0, 0, 0, 0, 0, 0, 0, 0, 0, 0, 0, 0, 0, 0, 0, 0, 0, 0, 1, 0, 0, 0, 0, 0, 0, 0, 0, 0, 0, 0, 1, 0, 0, 0, 0]\n",
      "e : 4 [0, 1, 0, 0, 0, 0, 0, 0, 0, 0, 0, 0, 0, 0, 0, 0, 0, 0, 0, 0, 0, 0, 0, 0, 0, 0, 0, 0, 0, 0, 0, 0, 0, 0, 0, 0, 0, 0, 0, 0, 0, 0, 0, 0, 0, 0, 0, 0, 0, 0, 0, 0, 0, 0, 0, 0, 0, 0, 0, 0, 0, 0, 0, 0, 0, 0, 0, 0, 0, 0, 0, 0, 0, 0, 0, 0, 0, 0, 0, 0, 1, 0, 0, 0, 0, 0, 0, 0, 0, 0, 0, 0, 0, 0, 0, 0, 0, 1, 0, 0, 0, 0, 0, 0, 0, 0, 0, 0, 0, 0, 0, 0, 0, 0, 0, 0, 0, 0, 0, 0, 0, 0, 1, 0, 0, 0, 0, 0]\n",
      "f : 4 [0, 0, 0, 0, 0, 0, 0, 0, 0, 0, 0, 0, 0, 0, 0, 0, 0, 0, 1, 0, 1, 0, 0, 0, 0, 0, 0, 0, 0, 0, 0, 0, 0, 0, 0, 0, 0, 0, 0, 0, 0, 0, 0, 0, 0, 0, 0, 0, 0, 0, 0, 0, 0, 0, 0, 0, 0, 0, 0, 0, 0, 0, 0, 0, 0, 0, 0, 0, 0, 0, 0, 0, 0, 0, 0, 0, 0, 0, 0, 0, 0, 0, 0, 0, 0, 0, 0, 0, 0, 0, 0, 0, 0, 0, 0, 0, 0, 0, 0, 0, 0, 0, 0, 0, 0, 0, 0, 0, 1, 0, 0, 0, 0, 0, 0, 0, 0, 0, 1, 0, 0, 0, 0, 0, 0, 0, 0, 0]\n",
      "g : 4 [0, 1, 0, 0, 0, 0, 0, 0, 0, 0, 0, 0, 0, 0, 0, 0, 0, 0, 0, 1, 0, 0, 0, 0, 0, 0, 0, 0, 0, 0, 0, 0, 0, 0, 0, 0, 0, 0, 0, 0, 0, 0, 0, 0, 0, 0, 0, 0, 0, 0, 1, 0, 0, 0, 0, 0, 0, 0, 0, 0, 0, 0, 0, 0, 0, 0, 1, 0, 0, 0, 0, 0, 0, 0, 0, 0, 0, 0, 0, 0, 0, 0, 0, 0, 0, 0, 0, 0, 0, 0, 0, 0, 0, 0, 0, 0, 0, 0, 0, 0, 0, 0, 0, 0, 0, 0, 0, 0, 0, 0, 0, 0, 0, 0, 0, 0, 0, 0, 0, 0, 0, 0, 0, 0, 0, 0, 0, 0]\n",
      "h : 4 [0, 0, 0, 0, 0, 0, 0, 0, 0, 0, 0, 0, 0, 0, 0, 0, 0, 0, 0, 0, 0, 0, 0, 0, 0, 0, 0, 0, 0, 0, 0, 0, 0, 0, 1, 0, 0, 0, 0, 0, 0, 0, 0, 0, 0, 0, 0, 0, 0, 0, 0, 0, 0, 0, 0, 0, 0, 0, 0, 0, 0, 1, 0, 0, 0, 0, 0, 0, 0, 1, 0, 0, 0, 0, 0, 0, 0, 0, 0, 0, 0, 0, 0, 0, 0, 0, 0, 0, 0, 0, 0, 0, 0, 0, 0, 0, 0, 0, 0, 0, 0, 0, 0, 0, 0, 0, 0, 0, 0, 0, 0, 0, 0, 0, 0, 0, 0, 0, 0, 0, 0, 0, 0, 0, 1, 0, 0, 0]\n",
      "i : 4 [0, 0, 0, 0, 0, 0, 0, 0, 0, 0, 0, 0, 0, 0, 0, 0, 0, 0, 0, 0, 0, 0, 0, 0, 0, 0, 0, 0, 0, 0, 0, 0, 0, 1, 0, 0, 0, 0, 0, 0, 0, 0, 0, 0, 0, 0, 0, 0, 0, 0, 0, 0, 0, 0, 0, 0, 0, 0, 0, 0, 0, 0, 0, 0, 0, 0, 0, 0, 0, 0, 0, 0, 1, 0, 0, 0, 0, 0, 0, 0, 0, 0, 0, 0, 0, 0, 1, 0, 0, 0, 0, 0, 0, 0, 0, 0, 0, 0, 0, 0, 0, 0, 0, 0, 0, 0, 1, 0, 0, 0, 0, 0, 0, 0, 0, 0, 0, 0, 0, 0, 0, 0, 0, 0, 0, 0, 0, 0]\n",
      "j : 4 [0, 0, 0, 0, 0, 0, 1, 0, 0, 0, 0, 0, 0, 0, 0, 0, 0, 0, 0, 0, 0, 0, 0, 0, 0, 1, 0, 0, 0, 0, 0, 0, 0, 0, 0, 0, 0, 0, 0, 1, 0, 0, 0, 0, 0, 0, 0, 0, 0, 0, 0, 0, 0, 0, 0, 0, 0, 0, 0, 0, 0, 0, 0, 0, 0, 0, 0, 0, 0, 0, 0, 0, 0, 0, 0, 0, 1, 0, 0, 0, 0, 0, 0, 0, 0, 0, 0, 0, 0, 0, 0, 0, 0, 0, 0, 0, 0, 0, 0, 0, 0, 0, 0, 0, 0, 0, 0, 0, 0, 0, 0, 0, 0, 0, 0, 0, 0, 0, 0, 0, 0, 0, 0, 0, 0, 0, 0, 0]\n",
      "k : 4 [0, 0, 0, 0, 0, 1, 0, 0, 0, 0, 0, 0, 0, 0, 0, 0, 0, 0, 0, 0, 0, 0, 0, 0, 0, 0, 0, 0, 0, 0, 0, 0, 0, 0, 0, 0, 0, 1, 0, 0, 0, 0, 0, 0, 0, 0, 0, 0, 0, 0, 0, 1, 0, 0, 0, 0, 0, 0, 0, 0, 0, 0, 0, 0, 0, 0, 0, 0, 0, 0, 1, 0, 0, 0, 0, 0, 0, 0, 0, 0, 0, 0, 0, 0, 0, 0, 0, 0, 0, 0, 0, 0, 0, 0, 0, 0, 0, 0, 0, 0, 0, 0, 0, 0, 0, 0, 0, 0, 0, 0, 0, 0, 0, 0, 0, 0, 0, 0, 0, 0, 0, 0, 0, 0, 0, 0, 0, 0]\n",
      "l : 4 [0, 0, 0, 0, 0, 0, 0, 0, 0, 0, 0, 0, 0, 0, 0, 0, 0, 0, 0, 0, 0, 0, 0, 0, 0, 0, 0, 0, 0, 0, 0, 0, 1, 0, 0, 0, 0, 0, 0, 0, 0, 0, 0, 0, 1, 0, 0, 0, 0, 0, 0, 0, 0, 0, 0, 0, 0, 0, 0, 0, 0, 0, 0, 0, 0, 0, 0, 0, 0, 0, 0, 0, 0, 0, 0, 1, 0, 0, 0, 0, 0, 0, 0, 0, 0, 0, 0, 0, 0, 0, 0, 0, 0, 0, 0, 0, 0, 0, 0, 0, 0, 0, 0, 0, 0, 0, 0, 0, 0, 0, 0, 0, 0, 0, 0, 0, 0, 0, 0, 0, 0, 0, 0, 0, 0, 0, 1, 0]\n",
      "m : 4 [0, 0, 0, 0, 0, 0, 0, 0, 0, 0, 0, 0, 0, 0, 0, 0, 0, 0, 0, 0, 0, 0, 0, 0, 0, 0, 0, 0, 0, 0, 0, 0, 0, 0, 0, 0, 0, 0, 0, 0, 0, 0, 0, 0, 0, 0, 0, 0, 0, 0, 0, 0, 0, 0, 0, 0, 0, 0, 0, 0, 0, 0, 0, 0, 0, 0, 0, 0, 0, 0, 0, 0, 0, 0, 0, 1, 1, 0, 0, 1, 0, 0, 0, 0, 0, 0, 0, 0, 0, 0, 0, 0, 0, 0, 0, 0, 0, 0, 0, 0, 0, 0, 0, 0, 0, 0, 0, 0, 0, 0, 0, 0, 0, 0, 0, 0, 0, 0, 0, 0, 0, 0, 0, 0, 0, 0, 0, 1]\n",
      "n : 4 [0, 0, 0, 0, 0, 0, 0, 0, 0, 0, 0, 0, 0, 0, 0, 0, 0, 0, 0, 0, 0, 0, 0, 0, 0, 0, 0, 0, 0, 0, 0, 0, 1, 0, 0, 0, 0, 0, 0, 0, 0, 0, 0, 0, 0, 0, 0, 0, 0, 0, 0, 0, 0, 0, 0, 0, 0, 0, 0, 0, 0, 0, 0, 1, 0, 0, 0, 0, 0, 0, 0, 0, 0, 1, 0, 0, 0, 0, 0, 0, 0, 0, 0, 0, 0, 0, 0, 0, 0, 0, 1, 0, 0, 0, 0, 0, 0, 0, 0, 0, 0, 0, 0, 0, 0, 0, 0, 0, 0, 0, 0, 0, 0, 0, 0, 0, 0, 0, 0, 0, 0, 0, 0, 0, 0, 0, 0, 0]\n",
      "o : 4 [0, 0, 0, 0, 0, 0, 0, 0, 0, 0, 0, 0, 1, 0, 0, 0, 0, 0, 0, 0, 0, 0, 0, 0, 0, 0, 0, 0, 0, 0, 0, 0, 0, 0, 0, 0, 0, 0, 0, 0, 0, 0, 1, 0, 0, 0, 0, 0, 0, 0, 0, 0, 0, 0, 0, 0, 0, 0, 0, 0, 0, 0, 0, 0, 0, 0, 0, 0, 0, 0, 0, 0, 0, 0, 0, 0, 0, 0, 0, 0, 0, 0, 0, 0, 0, 0, 0, 0, 0, 0, 0, 0, 0, 0, 1, 0, 0, 0, 0, 0, 0, 0, 0, 0, 0, 0, 0, 0, 0, 0, 1, 0, 0, 0, 0, 0, 0, 0, 0, 0, 0, 0, 0, 0, 0, 0, 0, 0]\n",
      "p : 4 [0, 0, 0, 0, 0, 1, 0, 0, 0, 0, 0, 0, 1, 0, 0, 0, 0, 0, 0, 0, 0, 0, 0, 0, 0, 0, 0, 0, 0, 0, 1, 0, 0, 0, 0, 0, 0, 0, 0, 0, 0, 0, 0, 0, 0, 0, 0, 0, 0, 0, 0, 0, 0, 0, 0, 0, 0, 0, 0, 0, 0, 0, 0, 0, 0, 0, 0, 0, 0, 0, 0, 0, 0, 0, 0, 0, 0, 0, 0, 0, 0, 0, 0, 0, 0, 0, 0, 0, 0, 0, 0, 0, 0, 0, 0, 0, 0, 0, 0, 0, 0, 0, 0, 0, 0, 1, 0, 0, 0, 0, 0, 0, 0, 0, 0, 0, 0, 0, 0, 0, 0, 0, 0, 0, 0, 0, 0, 0]\n",
      "q : 4 [0, 0, 0, 0, 0, 0, 0, 1, 0, 0, 0, 0, 0, 0, 0, 0, 1, 0, 0, 0, 0, 0, 0, 0, 0, 0, 0, 0, 0, 0, 0, 0, 0, 0, 0, 0, 0, 0, 0, 0, 0, 1, 0, 0, 0, 0, 0, 0, 0, 0, 0, 0, 0, 0, 0, 0, 0, 0, 0, 0, 0, 0, 0, 0, 0, 0, 0, 0, 0, 0, 0, 0, 0, 0, 0, 0, 0, 0, 0, 0, 0, 0, 0, 0, 0, 0, 0, 0, 0, 0, 0, 0, 0, 0, 0, 0, 0, 0, 0, 0, 0, 0, 0, 0, 0, 0, 0, 0, 0, 0, 0, 0, 0, 0, 0, 0, 0, 0, 0, 0, 0, 0, 0, 0, 0, 0, 1, 0]\n",
      "r : 4 [0, 0, 0, 0, 0, 0, 0, 0, 0, 0, 0, 0, 0, 0, 0, 0, 0, 0, 0, 0, 0, 0, 0, 0, 0, 0, 0, 0, 0, 0, 0, 0, 0, 0, 0, 1, 0, 0, 0, 0, 0, 0, 0, 0, 0, 0, 0, 0, 0, 0, 0, 0, 0, 0, 0, 0, 0, 0, 0, 0, 0, 0, 0, 0, 0, 0, 0, 0, 0, 0, 0, 0, 0, 0, 0, 0, 0, 0, 0, 0, 1, 0, 0, 0, 0, 0, 0, 0, 0, 0, 0, 0, 0, 0, 1, 0, 0, 0, 0, 0, 0, 0, 0, 0, 0, 0, 0, 0, 0, 0, 0, 0, 0, 0, 0, 0, 0, 0, 0, 0, 1, 0, 0, 0, 0, 0, 0, 0]\n",
      "s : 4 [0, 0, 0, 0, 0, 0, 0, 0, 0, 1, 0, 0, 0, 0, 0, 0, 0, 0, 0, 0, 0, 0, 0, 0, 0, 0, 0, 0, 0, 0, 0, 0, 0, 0, 0, 0, 0, 0, 0, 0, 0, 0, 0, 0, 0, 0, 0, 0, 0, 0, 0, 0, 0, 0, 0, 0, 0, 0, 0, 0, 0, 0, 0, 0, 0, 0, 0, 0, 0, 0, 0, 0, 0, 0, 0, 0, 0, 0, 0, 0, 0, 0, 0, 0, 0, 0, 1, 0, 0, 0, 0, 0, 0, 0, 0, 0, 0, 0, 0, 1, 0, 0, 0, 0, 0, 0, 0, 1, 0, 0, 0, 0, 0, 0, 0, 0, 0, 0, 0, 0, 0, 0, 0, 0, 0, 0, 0, 0]\n",
      "t : 4 [0, 0, 0, 0, 0, 0, 0, 0, 0, 0, 0, 0, 0, 0, 0, 0, 0, 0, 0, 0, 1, 0, 0, 0, 0, 0, 0, 0, 0, 0, 0, 0, 0, 0, 0, 0, 0, 0, 0, 0, 0, 1, 0, 0, 0, 0, 0, 0, 0, 0, 0, 0, 0, 0, 0, 0, 0, 0, 0, 0, 0, 0, 0, 0, 0, 0, 0, 0, 0, 0, 0, 0, 0, 0, 0, 1, 0, 0, 0, 0, 0, 0, 0, 0, 0, 0, 0, 0, 0, 0, 0, 0, 0, 0, 1, 0, 0, 0, 0, 0, 0, 0, 0, 0, 0, 0, 0, 0, 0, 0, 0, 0, 0, 0, 0, 0, 0, 0, 0, 0, 0, 0, 0, 0, 0, 0, 0, 0]\n",
      "u : 4 [0, 0, 0, 0, 0, 0, 0, 0, 0, 0, 0, 0, 0, 0, 0, 0, 0, 0, 0, 0, 0, 0, 0, 0, 0, 0, 0, 0, 0, 0, 0, 0, 0, 0, 0, 0, 0, 0, 0, 0, 0, 0, 1, 0, 0, 0, 0, 1, 0, 0, 0, 0, 0, 0, 0, 1, 0, 0, 0, 0, 0, 0, 0, 1, 0, 0, 0, 0, 0, 0, 0, 0, 0, 0, 0, 0, 0, 0, 0, 0, 0, 0, 0, 0, 0, 0, 0, 0, 0, 0, 0, 0, 0, 0, 0, 0, 0, 0, 0, 0, 0, 0, 0, 0, 0, 0, 0, 0, 0, 0, 0, 0, 0, 0, 0, 0, 0, 0, 0, 0, 0, 0, 0, 0, 0, 0, 0, 0]\n",
      "v : 4 [0, 0, 0, 0, 0, 0, 0, 0, 0, 0, 0, 0, 0, 0, 0, 0, 0, 0, 0, 0, 0, 0, 0, 0, 0, 0, 0, 0, 0, 0, 0, 0, 0, 0, 0, 0, 0, 0, 0, 0, 0, 0, 0, 0, 0, 0, 0, 0, 0, 0, 0, 0, 0, 0, 0, 0, 0, 0, 0, 0, 0, 0, 0, 0, 0, 0, 0, 0, 0, 1, 1, 0, 0, 0, 0, 0, 0, 0, 0, 0, 0, 0, 0, 0, 0, 0, 0, 0, 0, 0, 0, 0, 0, 0, 0, 0, 0, 0, 0, 0, 0, 1, 0, 0, 0, 0, 0, 0, 0, 0, 0, 0, 0, 0, 0, 0, 0, 1, 0, 0, 0, 0, 0, 0, 0, 0, 0, 0]\n",
      "w : 4 [0, 0, 0, 0, 0, 0, 0, 0, 0, 1, 0, 0, 0, 0, 0, 0, 0, 0, 0, 0, 0, 0, 0, 0, 0, 0, 1, 0, 0, 0, 0, 0, 0, 0, 0, 0, 0, 0, 0, 0, 0, 0, 0, 0, 0, 0, 0, 0, 0, 0, 0, 0, 0, 1, 0, 0, 0, 0, 0, 0, 0, 0, 0, 0, 0, 0, 0, 0, 0, 0, 0, 0, 0, 0, 0, 0, 0, 0, 0, 0, 0, 0, 0, 0, 0, 0, 0, 0, 0, 0, 0, 0, 0, 0, 0, 0, 0, 0, 0, 0, 0, 0, 0, 0, 0, 0, 0, 0, 0, 0, 0, 0, 0, 0, 0, 0, 0, 0, 0, 0, 0, 0, 0, 0, 1, 0, 0, 0]\n",
      "x : 4 [0, 0, 0, 0, 0, 0, 0, 0, 0, 0, 0, 0, 0, 0, 0, 0, 0, 0, 1, 0, 0, 0, 0, 0, 0, 0, 0, 0, 0, 0, 0, 0, 0, 0, 0, 0, 0, 0, 0, 0, 0, 0, 0, 0, 0, 1, 0, 0, 0, 0, 0, 0, 0, 0, 0, 0, 0, 0, 0, 0, 0, 1, 0, 0, 0, 0, 0, 0, 0, 0, 0, 0, 0, 0, 0, 0, 0, 0, 0, 0, 0, 0, 0, 0, 0, 0, 0, 0, 0, 0, 0, 0, 0, 0, 0, 0, 0, 0, 0, 0, 0, 0, 0, 1, 0, 0, 0, 0, 0, 0, 0, 0, 0, 0, 0, 0, 0, 0, 0, 0, 0, 0, 0, 0, 0, 0, 0, 0]\n",
      "y : 4 [0, 0, 0, 0, 0, 0, 0, 0, 0, 0, 0, 1, 0, 0, 0, 0, 0, 0, 0, 0, 0, 0, 0, 1, 0, 0, 0, 0, 0, 0, 0, 0, 0, 1, 0, 0, 0, 0, 0, 0, 0, 0, 0, 0, 0, 0, 0, 0, 0, 0, 0, 0, 0, 0, 0, 0, 0, 0, 0, 0, 0, 0, 0, 0, 0, 0, 0, 0, 0, 0, 0, 0, 0, 0, 0, 0, 0, 1, 0, 0, 0, 0, 0, 0, 0, 0, 0, 0, 0, 0, 0, 0, 0, 0, 0, 0, 0, 0, 0, 0, 0, 0, 0, 0, 0, 0, 0, 0, 0, 0, 0, 0, 0, 0, 0, 0, 0, 0, 0, 0, 0, 0, 0, 0, 0, 0, 0, 0]\n",
      "z : 4 [0, 0, 0, 0, 0, 0, 0, 0, 0, 1, 0, 0, 0, 0, 0, 0, 0, 0, 0, 0, 0, 0, 0, 0, 0, 0, 0, 0, 0, 0, 0, 0, 0, 0, 0, 0, 0, 0, 0, 0, 1, 0, 0, 0, 0, 0, 0, 0, 0, 0, 0, 0, 0, 0, 0, 0, 0, 0, 0, 0, 0, 0, 1, 0, 0, 0, 0, 0, 0, 0, 0, 0, 0, 0, 0, 0, 0, 0, 0, 0, 0, 0, 0, 0, 0, 0, 0, 0, 0, 1, 0, 0, 0, 0, 0, 0, 0, 0, 0, 0, 0, 0, 0, 0, 0, 0, 0, 0, 0, 0, 0, 0, 0, 0, 0, 0, 0, 0, 0, 0, 0, 0, 0, 0, 0, 0, 0, 0]\n",
      "  : 4 [0, 0, 0, 0, 0, 0, 0, 0, 0, 0, 0, 0, 0, 0, 0, 0, 0, 0, 0, 0, 0, 0, 0, 0, 0, 1, 0, 0, 0, 0, 0, 0, 0, 0, 0, 0, 0, 0, 0, 0, 0, 0, 0, 0, 0, 0, 1, 1, 0, 0, 0, 0, 0, 0, 0, 0, 0, 0, 0, 0, 0, 0, 0, 0, 0, 1, 0, 0, 0, 0, 0, 0, 0, 0, 0, 0, 0, 0, 0, 0, 0, 0, 0, 0, 0, 0, 0, 0, 0, 0, 0, 0, 0, 0, 0, 0, 0, 0, 0, 0, 0, 0, 0, 0, 0, 0, 0, 0, 0, 0, 0, 0, 0, 0, 0, 0, 0, 0, 0, 0, 0, 0, 0, 0, 0, 0, 0, 0]\n",
      ". : 4 [0, 0, 0, 0, 0, 0, 0, 0, 0, 0, 0, 0, 0, 0, 0, 0, 0, 0, 0, 0, 0, 0, 0, 0, 0, 0, 0, 0, 0, 0, 0, 0, 0, 0, 0, 0, 0, 0, 0, 0, 0, 0, 0, 0, 0, 0, 0, 0, 0, 0, 0, 0, 0, 0, 0, 0, 0, 0, 0, 0, 0, 0, 0, 0, 0, 0, 0, 0, 0, 0, 0, 0, 0, 0, 0, 0, 0, 0, 0, 0, 0, 0, 0, 0, 0, 0, 0, 0, 0, 0, 0, 0, 0, 0, 0, 0, 0, 0, 0, 0, 1, 0, 0, 0, 0, 0, 0, 0, 1, 0, 0, 1, 1, 0, 0, 0, 0, 0, 0, 0, 0, 0, 0, 0, 0, 0, 0, 0]\n",
      ", : 4 [0, 0, 0, 0, 0, 0, 0, 1, 0, 0, 0, 0, 0, 0, 0, 0, 0, 0, 0, 0, 0, 0, 0, 0, 0, 0, 0, 0, 0, 0, 0, 0, 0, 0, 0, 0, 0, 0, 0, 0, 0, 0, 0, 0, 0, 0, 0, 0, 0, 0, 0, 0, 0, 0, 0, 0, 0, 0, 0, 0, 0, 0, 0, 0, 0, 0, 0, 0, 0, 0, 0, 0, 0, 0, 0, 0, 0, 0, 0, 0, 0, 0, 1, 1, 0, 0, 0, 0, 0, 0, 0, 0, 0, 0, 0, 0, 0, 0, 0, 0, 0, 0, 0, 0, 0, 0, 0, 0, 0, 0, 0, 1, 0, 0, 0, 0, 0, 0, 0, 0, 0, 0, 0, 0, 0, 0, 0, 0]\n",
      "< : 4 [0, 0, 0, 0, 0, 0, 0, 0, 0, 0, 0, 0, 1, 0, 0, 0, 0, 0, 0, 0, 0, 0, 0, 0, 0, 0, 0, 0, 0, 0, 0, 0, 0, 0, 0, 0, 0, 0, 0, 0, 0, 1, 0, 0, 0, 0, 0, 0, 0, 1, 0, 0, 0, 0, 0, 0, 0, 0, 0, 0, 0, 0, 0, 0, 0, 0, 0, 0, 0, 0, 0, 0, 0, 0, 0, 0, 0, 0, 0, 0, 0, 0, 0, 0, 0, 0, 0, 0, 0, 0, 0, 0, 0, 0, 0, 0, 0, 0, 0, 0, 0, 0, 0, 0, 0, 0, 0, 0, 0, 0, 0, 0, 1, 0, 0, 0, 0, 0, 0, 0, 0, 0, 0, 0, 0, 0, 0, 0]\n",
      "' : 4 [0, 0, 0, 0, 0, 0, 0, 0, 0, 0, 0, 0, 0, 0, 0, 0, 0, 0, 0, 0, 0, 0, 0, 0, 0, 0, 0, 1, 0, 0, 0, 0, 0, 0, 0, 0, 0, 0, 0, 0, 0, 0, 0, 0, 0, 0, 0, 0, 1, 0, 0, 0, 0, 0, 0, 0, 0, 0, 0, 0, 0, 0, 0, 0, 0, 0, 0, 0, 0, 0, 0, 0, 0, 0, 0, 1, 0, 0, 0, 0, 0, 0, 0, 0, 0, 0, 0, 0, 0, 0, 0, 0, 0, 0, 0, 0, 0, 0, 0, 0, 0, 0, 0, 0, 0, 0, 0, 0, 0, 0, 0, 0, 0, 0, 0, 0, 0, 0, 1, 0, 0, 0, 0, 0, 0, 0, 0, 0]\n",
      "> : 4 [0, 1, 0, 0, 0, 0, 0, 0, 0, 0, 0, 0, 0, 0, 0, 0, 0, 0, 0, 0, 0, 0, 0, 0, 0, 0, 0, 0, 0, 0, 0, 0, 0, 0, 0, 0, 0, 1, 0, 0, 0, 0, 0, 0, 0, 0, 0, 0, 0, 0, 0, 0, 0, 0, 0, 0, 0, 0, 0, 0, 0, 1, 0, 0, 0, 0, 0, 0, 0, 0, 0, 0, 0, 0, 0, 0, 0, 0, 0, 0, 0, 0, 0, 0, 0, 0, 0, 0, 0, 0, 0, 0, 0, 0, 0, 0, 0, 0, 0, 0, 0, 0, 0, 0, 0, 0, 0, 0, 1, 0, 0, 0, 0, 0, 0, 0, 0, 0, 0, 0, 0, 0, 0, 0, 0, 0, 0, 0]\n"
     ]
    }
   ],
   "source": [
    "# generate SDR\n",
    "\n",
    "SDR_len = 128 # 128\n",
    "sparsity = 4 # 4\n",
    "max_overlap = 1 # 1\n",
    "\n",
    "sparse_prob = sparsity / SDR_len\n",
    "\n",
    "letter_SDRs = {}\n",
    "\n",
    "for letter in letters:\n",
    "    while True:\n",
    "        rnd_SDR = np.random.choice([0, 1], SDR_len, True, [1 - sparse_prob, sparse_prob])\n",
    "\n",
    "        if (rnd_SDR > 0).sum() != sparsity:\n",
    "            continue\n",
    "        \n",
    "        is_over_max = False\n",
    "        for SDR in letter_SDRs.values():\n",
    "            if (SDR & rnd_SDR).sum() > max_overlap:\n",
    "                is_over_max = True\n",
    "                break\n",
    "        \n",
    "        if is_over_max:\n",
    "            continue\n",
    "            \n",
    "        break\n",
    "    \n",
    "    # print(f'{letter}')\n",
    "    letter_SDRs.setdefault(letter, rnd_SDR)\n",
    "\n",
    "for letter, SDR in letter_SDRs.items():\n",
    "    print(f'{letter} : {(SDR > 0).sum()} {SDR.tolist()}')"
   ]
  },
  {
   "cell_type": "code",
   "execution_count": 195,
   "metadata": {},
   "outputs": [
    {
     "name": "stdout",
     "output_type": "stream",
     "text": [
      "len(input_SDRs)=502\n"
     ]
    }
   ],
   "source": [
    "# text to SDRs\n",
    "input_SDRs = []\n",
    "\n",
    "for inp in input_str:\n",
    "    input_SDRs.append(letter_SDRs[inp])\n",
    "\n",
    "print(f'{len(input_SDRs)=}')\n",
    "\n",
    "# for SDR in input_SDRs:\n",
    "#     print(f'{SDR.tolist()}')"
   ]
  },
  {
   "cell_type": "code",
   "execution_count": 196,
   "metadata": {},
   "outputs": [],
   "source": [
    "# init start column\n",
    "column_size = 16\n",
    "\n",
    "start_SDR = letter_SDRs['<']\n",
    "\n",
    "start_I = np.zeros((start_SDR.size, column_size))\n",
    "\n",
    "active_start_SDR_idx = np.where(start_SDR == 1)\n",
    "\n",
    "for as_idx in active_start_SDR_idx[0]:\n",
    "    rnd_active = np.random.randint(column_size)\n",
    "\n",
    "    start_I[as_idx][rnd_active] = 1\n",
    "\n",
    "# for col in np.rot90(start_I):\n",
    "#     print(f'{col.astype(int).tolist()}')"
   ]
  },
  {
   "cell_type": "code",
   "execution_count": 197,
   "metadata": {},
   "outputs": [
    {
     "name": "stdout",
     "output_type": "stream",
     "text": [
      "[0.0, 20.0, 0.0, 0.0, 0.0, 8.4375, 0.0, 0.0, 0.0, 20.0, 4.0625, 2.5, 14.375, 0.0, 0.0, 4.0625, 0.0, 0.0, 2.5, 1.25, 13.4375, 5.3125, 0.0, 2.5, 0.0, 33.4375, 4.0625, 0.3125, 0.0, 0.0, 3.4375, 0.0, 12.1875, 11.5625, 10.3125, 6.875, 0.0, 1.25, 5.3125, 0.0, 0.0, 10.9375, 13.75, 0.0, 2.1875, 0.0, 30.625, 33.4375, 0.3125, 0.0, 9.6875, 0.9375, 0.0, 4.0625, 0.0, 2.8125, 0.0, 0.0, 0.0, 0.0, 0.0, 10.625, 0.0, 12.8125, 0.0, 30.625, 1.25, 0.0, 0.0, 10.3125, 0.9375, 0.0, 9.0625, 10.0, 0.0, 17.1875, 3.75, 2.5, 0.0, 3.75, 22.5, 0.0, 4.0625, 0.0, 0.0, 2.8125, 16.5625, 0.0, 2.8125, 0.0, 10.0, 0.0, 0.0, 0.0, 28.75, 0.0, 0.0, 15.625, 0.0, 7.5, 0.0, 0.0, 0.0, 0.0, 8.4375, 3.4375, 9.0625, 7.5, 2.8125, 0.0, 10.9375, 5.3125, 0.0, 0.0, 8.4375, 0.0, 0.0, 0.0, 2.8125, 0.0, 6.875, 0.0, 15.625, 5.3125, 14.375, 0.0, 2.1875, 3.75]\n",
      "1255\n",
      "[0, 16, 0, 0, 0, 13, 0, 0, 0, 16, 8, 7, 16, 0, 0, 10, 0, 0, 5, 4, 16, 13, 0, 8, 0, 16, 11, 1, 0, 0, 10, 0, 16, 16, 13, 12, 0, 4, 11, 0, 0, 15, 15, 0, 6, 0, 16, 16, 1, 0, 16, 3, 0, 11, 0, 7, 0, 0, 0, 0, 0, 14, 0, 16, 0, 16, 4, 0, 0, 13, 3, 0, 16, 16, 0, 16, 10, 8, 0, 10, 16, 0, 11, 0, 0, 8, 16, 0, 7, 0, 15, 0, 0, 0, 16, 0, 0, 16, 0, 14, 0, 0, 0, 0, 15, 9, 16, 15, 8, 0, 16, 12, 0, 0, 15, 0, 0, 0, 7, 0, 12, 0, 16, 13, 16, 0, 6, 8]\n",
      "np.mean(TR)=0.10396275869396115 TR.max()=0.7892263483240378 TR.min()=0.0\n"
     ]
    }
   ],
   "source": [
    "I = np.zeros((SDR_len, column_size))\n",
    "O = np.zeros((SDR_len, column_size))\n",
    "\n",
    "W = np.random.rand(SDR_len, column_size, SDR_len * column_size) * 1e-2\n",
    "\n",
    "V = np.zeros((SDR_len, column_size))\n",
    "\n",
    "TR = np.zeros((SDR_len, column_size))\n",
    "PO = np.zeros((SDR_len, column_size))\n",
    "\n",
    "prec = 1e-30\n",
    "\n",
    "# train\n",
    "\n",
    "epoch_cnt = 5\n",
    "\n",
    "eps0 = 0.003\n",
    "TR_eps0 = 0.03 # 0.15\n",
    "\n",
    "eps0_V = 0.09\n",
    "\n",
    "coef_TR = 0.8\n",
    "\n",
    "for epoch_idx in range(epoch_cnt):\n",
    "    I = np.copy(start_I)\n",
    "\n",
    "    for SDR in input_SDRs[1:]:\n",
    "        rsh_I = I.reshape(SDR_len * column_size)\n",
    "\n",
    "        O = np.dot(W, rsh_I)\n",
    "\n",
    "        O /= np.max(np.abs(O)) + prec\n",
    "        \n",
    "        # threshold\n",
    "        min_O = np.min(O)\n",
    "        O[O < TR * coef_TR] = min_O\n",
    "        OO = np.copy(O)\n",
    "\n",
    "        # boosting\n",
    "        nV = np.abs(V - np.max(V, axis=1)[np.newaxis].T)\n",
    "        nV /= np.max(nV, axis=1)[np.newaxis].T + prec\n",
    "\n",
    "        OV = O + nV * eps0_V\n",
    "\n",
    "        OV *= SDR[np.newaxis].T\n",
    "        max_O = np.max(OV, axis=1)\n",
    "\n",
    "        O *= SDR[np.newaxis].T\n",
    "        O[OV < max_O[np.newaxis].T] = 0\n",
    "        max_O_idx = np.where(O != 0)\n",
    "\n",
    "        W[max_O_idx] += (rsh_I - W[max_O_idx] * O[max_O_idx][..., np.newaxis]) * eps0\n",
    "\n",
    "        # threshold update\n",
    "        TR[max_O_idx] += (OO[max_O_idx] - TR[max_O_idx] * PO[max_O_idx]) * TR_eps0\n",
    "        PO[max_O_idx] = np.copy(OO[max_O_idx])\n",
    "\n",
    "        # winners\n",
    "        V[max_O_idx] += 1\n",
    "\n",
    "        # recur\n",
    "        O[O != 0] = 1\n",
    "\n",
    "        I = np.copy(O)\n",
    "\n",
    "# O.shape\n",
    "print(np.mean(V, axis=1).tolist())\n",
    "print(np.sum(V == 0))\n",
    "print(np.sum((V > 0), axis=1).tolist())\n",
    "# for col in np.rot90(V):\n",
    "#     print(f'{col.astype(int).tolist()}')\n",
    "print(f'{np.mean(TR)=} {TR.max()=} {TR.min()=}')"
   ]
  },
  {
   "cell_type": "code",
   "execution_count": 198,
   "metadata": {},
   "outputs": [
    {
     "name": "stdout",
     "output_type": "stream",
     "text": [
      "np.mean(error)=0.2634730538922156 error.max()=8 error.min()=0 mean_percent=3\n"
     ]
    }
   ],
   "source": [
    "# test\n",
    "error = []\n",
    "over_mean_list = []\n",
    "entropy_list = []\n",
    "predictability_list = []\n",
    "active_out_list = []\n",
    "\n",
    "I = np.copy(start_I)\n",
    "\n",
    "infer_coef_TR = 0.0\n",
    "\n",
    "for SDR in input_SDRs[1:]:\n",
    "    rsh_I = I.reshape(SDR_len * column_size)\n",
    "\n",
    "    O = np.dot(W, rsh_I)\n",
    "\n",
    "    # threshold\n",
    "    norm_O = O / np.max(np.abs(O)) + prec\n",
    "    min_O = np.min(O) - 1\n",
    "    O[norm_O < TR * infer_coef_TR] = min_O\n",
    "\n",
    "    max_O = np.max(O, axis=1)\n",
    "    argmax_O_idx = np.argsort(max_O)[::-1][:sparsity]\n",
    "\n",
    "    SDR_O = np.zeros(O.shape[0])\n",
    "    SDR_O[argmax_O_idx] = 1\n",
    "\n",
    "    err = (SDR.astype(int) ^ SDR_O.astype(int)).sum()\n",
    "    # print(f'{err=}')\n",
    "    error.append(err)\n",
    "\n",
    "    # dividers\n",
    "    over_mean = (max_O > np.mean(max_O)).sum()\n",
    "    over_mean_list.append(over_mean)\n",
    "\n",
    "    entropy = np.copy(max_O)\n",
    "    entropy /= np.linalg.norm(entropy) + prec\n",
    "    entropy[entropy < 0] = prec\n",
    "    entropy = -1 * np.sum(entropy * np.log2(entropy))\n",
    "    entropy_list.append(entropy)\n",
    "\n",
    "    predictability = np.sum(np.abs(max_O - max_O[np.newaxis].T))\n",
    "    predictability_list.append(predictability)\n",
    "\n",
    "    active_out = np.sum(O > min_O)\n",
    "    active_out_list.append(active_out)\n",
    "\n",
    "    O *= SDR[np.newaxis].T\n",
    "    max_O = np.max(O, axis=1)\n",
    "    O[O < max_O[np.newaxis].T] = 0\n",
    "\n",
    "    # recur\n",
    "    O[O != 0] = 1\n",
    "\n",
    "    I = np.copy(O)\n",
    "\n",
    "error = np.array(error)\n",
    "mean_percent = int(np.mean(error) / (2 * sparsity) * 100)\n",
    "print(f'{np.mean(error)=} {error.max()=} {error.min()=} {mean_percent=}')\n",
    "\n",
    "# O.shape\n",
    "# for col in np.rot90(O):\n",
    "#     print(f'{col.astype(int).tolist()}')"
   ]
  },
  {
   "cell_type": "code",
   "execution_count": 199,
   "metadata": {},
   "outputs": [
    {
     "name": "stdout",
     "output_type": "stream",
     "text": [
      "[ 1  4  9 16 25 36 49 64 81]\n",
      "[ 1  3  5  7  9 11 13 15 17]\n",
      "[1 2 2 2 2 2 2 2 2]\n"
     ]
    }
   ],
   "source": [
    "from numpy import ndarray\n",
    "\n",
    "\n",
    "def get_diff(C: ndarray):\n",
    "    return C - np.pad(C, (1, 0))[:-1]\n",
    "\n",
    "\n",
    "def get_diff_2(C: ndarray):\n",
    "    diff_C = get_diff(C)\n",
    "\n",
    "    return diff_C - np.pad(diff_C, (1, 0))[:-1]\n",
    "\n",
    "\n",
    "a = np.arange(1, 10)**2\n",
    "print(a)\n",
    "c = get_diff(a)\n",
    "print(c)\n",
    "c = get_diff_2(a)\n",
    "print(c)\n"
   ]
  },
  {
   "cell_type": "code",
   "execution_count": 200,
   "metadata": {},
   "outputs": [],
   "source": [
    "def divide_by_peak(C: ndarray, inputs: list):\n",
    "    substrings: dict[str, int] = {}\n",
    "    buffer = []\n",
    "\n",
    "    peaks: dict[int, int] = {}\n",
    "\n",
    "    for inp_idx, inp in enumerate(inputs):\n",
    "        buffer.append(inp)\n",
    "\n",
    "        if inp_idx == 0 or inp_idx >= len(inputs) - 1:\n",
    "            continue\n",
    "\n",
    "        C_idx = inp_idx + 1\n",
    "\n",
    "        if C[C_idx] > C[C_idx - 1] and C[C_idx] > C[C_idx + 1]:\n",
    "            substr = ''.join(buffer)\n",
    "\n",
    "            substrings.setdefault(substr, 0)\n",
    "            substrings[substr] += 1\n",
    "\n",
    "            buffer = []\n",
    "\n",
    "            peaks.setdefault(inp_idx, 1)\n",
    "\n",
    "    # sort\n",
    "    substrings = dict(sorted(substrings.items(), key=lambda item: item[1], reverse=True))\n",
    "\n",
    "    peaks.setdefault((len(inputs) - 1), 1)\n",
    "\n",
    "    return substrings, peaks\n"
   ]
  },
  {
   "cell_type": "code",
   "execution_count": 201,
   "metadata": {},
   "outputs": [],
   "source": [
    "def divide_by_cliff(C: ndarray, inputs: list):\n",
    "    substrings: dict[str, int] = {}\n",
    "    buffer = []\n",
    "\n",
    "    cliffs: dict[int, int] = {}\n",
    "\n",
    "    for inp_idx, inp in enumerate(inputs):\n",
    "        buffer.append(inp)\n",
    "\n",
    "        if inp_idx == 0 or inp_idx >= len(inputs):\n",
    "            continue\n",
    "\n",
    "        C_idx = inp_idx + 1\n",
    "\n",
    "        if C[C_idx] > C[C_idx - 1]:\n",
    "            substr = ''.join(buffer)\n",
    "\n",
    "            substrings.setdefault(substr, 0)\n",
    "            substrings[substr] += 1\n",
    "\n",
    "            buffer = []\n",
    "\n",
    "            cliffs.setdefault(inp_idx, 1)\n",
    "\n",
    "    # sort\n",
    "    substrings = dict(sorted(substrings.items(), key=lambda item: item[1], reverse=True))\n",
    "\n",
    "    cliffs.setdefault((len(inputs) - 1), 1)\n",
    "\n",
    "    return substrings, cliffs\n"
   ]
  },
  {
   "cell_type": "code",
   "execution_count": 202,
   "metadata": {},
   "outputs": [
    {
     "name": "stdout",
     "output_type": "stream",
     "text": [
      "np.mean(over_mean_arr)=31.15568862275449 over_mean_arr.max()=43.0 over_mean_arr.min()=13.0\n",
      "np.mean(entropy_arr)=37.15702880774194 entropy_arr.max()=38.051600933457756 entropy_arr.min()=31.20366686815003 entropy_arr.size=501\n"
     ]
    },
    {
     "data": {
      "image/png": "[encoded data removed]",
      "text/plain": [
       "<Figure size 5000x500 with 1 Axes>"
      ]
     },
     "metadata": {},
     "output_type": "display_data"
    }
   ],
   "source": [
    "error_arr = np.array(error, dtype='float')\n",
    "over_mean_arr = np.array(over_mean_list, dtype='float')\n",
    "entropy_arr = np.array(entropy_list, dtype='float')\n",
    "predictability_arr = np.array(predictability_list, dtype='float')\n",
    "active_out_arr = np.array(active_out_list, dtype='float')\n",
    "\n",
    "print(f'{np.mean(over_mean_arr)=} {over_mean_arr.max()=} {over_mean_arr.min()=}')\n",
    "print(f'{np.mean(entropy_arr)=} {entropy_arr.max()=} {entropy_arr.min()=} {entropy_arr.size=}')\n",
    "\n",
    "error_arr /= np.max(np.abs(error_arr)) + prec\n",
    "# over_mean_arr = 1 / over_mean_arr\n",
    "over_mean_arr /= np.max(np.abs(over_mean_arr)) + prec\n",
    "entropy_arr /= np.max(np.abs(entropy_arr)) + prec\n",
    "predictability_arr /= np.max(np.abs(predictability_arr)) + prec\n",
    "active_out_arr /= np.max(np.abs(active_out_arr)) + prec\n",
    "\n",
    "plt.figure(figsize=(50, 5))\n",
    "\n",
    "# plt.plot(np.arange(error_arr.size), error_arr, label = \"error_arr\")\n",
    "# plt.plot(np.arange(len(over_mean_arr)), over_mean_arr, label = \"over_mean_arr\")\n",
    "# plt.plot(np.arange(len(entropy_arr)), entropy_arr, label = \"entropy_arr\")\n",
    "# plt.plot(np.arange(len(predictability_arr)), predictability_arr, label = \"predictability_arr\")\n",
    "plt.plot(np.arange(len(active_out_arr)), active_out_arr, label = \"active_out_arr\")\n",
    "\n",
    "plt.xticks(np.arange(len(input_str[1:])), input_str[1:])\n",
    "plt.grid(visible=True, axis='x')\n",
    "\n",
    "plt.legend()\n",
    "plt.show()"
   ]
  }
 ],
 "metadata": {
  "kernelspec": {
   "display_name": "Python 3",
   "language": "python",
   "name": "python3"
  },
  "language_info": {
   "codemirror_mode": {
    "name": "ipython",
    "version": 3
   },
   "file_extension": ".py",
   "mimetype": "text/x-python",
   "name": "python",
   "nbconvert_exporter": "python",
   "pygments_lexer": "ipython3",
   "version": "3.10.11"
  },
  "orig_nbformat": 4,
  "vscode": {
   "interpreter": {
    "hash": "aa38ca2d4ac5334f8facb9127846041594939b57ea42b4afe5d7eb655aac64f1"
   }
  }
 },
 "nbformat": 4,
 "nbformat_minor": 2
}
