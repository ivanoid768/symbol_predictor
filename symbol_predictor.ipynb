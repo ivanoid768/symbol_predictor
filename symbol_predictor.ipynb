{
 "cells": [
  {
   "cell_type": "code",
   "execution_count": null,
   "metadata": {},
   "outputs": [],
   "source": [
    "import numpy as np"
   ]
  },
  {
   "cell_type": "code",
   "execution_count": null,
   "metadata": {},
   "outputs": [],
   "source": [
    "from loaders import clean_text_for_pattern_letter\n",
    "from temp_text import template_str\n",
    "input_str = clean_text_for_pattern_letter(template_str, out_len=500)\n",
    "print(len(input_str))"
   ]
  },
  {
   "cell_type": "code",
   "execution_count": 11,
   "metadata": {},
   "outputs": [],
   "source": [
    "StatsDict: dict[str, dict] = {}\n",
    "\n",
    "for inp_idx, inp_ltr in enumerate(input_str):\n",
    "    if inp_idx == 0:\n",
    "        continue\n",
    "\n",
    "    prev_ltr = input_str[inp_idx - 1]\n",
    "    \n",
    "    prev_stats = StatsDict.setdefault(prev_ltr, {})\n",
    "    prev_stats.setdefault(inp_ltr, 0)\n",
    "    \n",
    "    prev_stats[inp_ltr] += 1"
   ]
  },
  {
   "cell_type": "code",
   "execution_count": 14,
   "metadata": {},
   "outputs": [
    {
     "name": "stdout",
     "output_type": "stream",
     "text": [
      "('t', {'h': 11, ' ': 3, 'e': 3, 'u': 1, 'o': 2, \"'\": 2, '.': 1, 's': 1, 'r': 1, 'w': 1, 'z': 1, 'i': 1})\n",
      "('h', {'e': 13, 'a': 3, 'o': 1, 'i': 3, 'r': 1, ' ': 1})\n",
      "('e', {' ': 17, 'l': 3, 'v': 3, 'd': 4, 'a': 3, 'o': 1, 'r': 4, 'f': 1, 'n': 2, '.': 2, 's': 3, 'x': 1, 'e': 1, 'k': 1, 't': 1})\n",
      "(' ', {'s': 6, 'a': 12, 't': 14, 'p': 3, 'w': 7, 'c': 7, 'o': 2, 'd': 6, '\"': 2, 'n': 2, 'l': 2, 'i': 3, 'u': 1, 'h': 6, 'm': 3, 'b': 3, 'v': 1, 'j': 3, 'f': 3, 'e': 1, 'y': 1, 'r': 1})\n",
      "('s', {'k': 1, ' ': 14, 'i': 4, 'e': 2, 'o': 1, 'a': 1, 'h': 1, 's': 2, 'p': 2, 'u': 1, 't': 1, 'l': 1})\n",
      "('k', {'y': 1, 'e': 3, ' ': 2, 'i': 1})\n",
      "('y', {' ': 4, ',': 1, \"'\": 1, '.': 1, 'o': 1})\n",
      "('a', {'b': 1, 's': 8, ' ': 5, 'd': 1, 'n': 4, 'r': 6, 'y': 2, 't': 5, 'w': 2, 'l': 1, 'p': 1})\n",
      "('b', {'o': 3, 'a': 2})\n",
      "('o', {'v': 1, 'r': 6, 'l': 1, 'f': 3, 'n': 5, ' ': 3, 't': 2, 'm': 1, 'u': 6, 'w': 1, 'o': 1, 'd': 1, 'p': 1, 'i': 1, 'k': 1, 's': 1})\n",
      "('v', {'e': 4, 'i': 1, 'o': 1})\n",
      "('p', {'o': 1, 'e': 1, 'r': 4, 'a': 2})\n",
      "('r', {'t': 1, ' ': 7, 'd': 2, 'e': 2, 'o': 5, 'u': 1, 'a': 3, 'i': 2, ',': 1, 'm': 1, 'k': 1})\n",
      "('w', {'a': 5, 'd': 1, 'l': 2, 'e': 1, 'o': 2})\n",
      "('c', {'o': 2, 'h': 3, 'a': 1, 'r': 1, 'i': 1, 'y': 1, 'e': 1, ' ': 1})\n",
      "('l', {'o': 2, 'e': 2, '.': 1, 'i': 2, 'd': 2, ' ': 3, 'y': 1, 'l': 1})\n",
      "('f', {' ': 2, 'i': 2, 'o': 2, 'e': 1})\n",
      "('i', {'s': 4, 'o': 2, 't': 3, 'k': 2, \"'\": 1, 'n': 5, 'v': 1, 'c': 3, 'e': 1, 'a': 1, 'l': 1})\n",
      "('n', {',': 1, 'e': 5, 'n': 1, 'o': 3, 'g': 3, 'd': 4, 'c': 1, 'a': 1, 'k': 1, ' ': 1})\n",
      "(',', {' ': 3, '\"': 1})\n",
      "('u', {'n': 2, 's': 2, 'l': 2, 'g': 2, 'b': 1, ' ': 1})\n",
      "('d', {' ': 10, 'e': 4, 'o': 1, 'y': 1, 'r': 2, 's': 1, 'i': 1})\n",
      "('.', {' ': 4, '\"': 1})\n",
      "('\"', {'i': 2, ' ': 2})\n",
      "(\"'\", {'s': 3, 'm': 1})\n",
      "('m', {' ': 2, 'e': 1, 'y': 1, 'a': 1, 'o': 1})\n",
      "('g', {',': 1, 'h': 1, ' ': 3})\n",
      "('j', {'o': 1, 'a': 1, 'e': 1})\n",
      "('x', {'p': 1})\n",
      "('z', {' ': 1})\n"
     ]
    }
   ],
   "source": [
    "for item in StatsDict.items():\n",
    "    print(item)"
   ]
  }
 ],
 "metadata": {
  "kernelspec": {
   "display_name": "Python 3",
   "language": "python",
   "name": "python3"
  },
  "language_info": {
   "codemirror_mode": {
    "name": "ipython",
    "version": 3
   },
   "file_extension": ".py",
   "mimetype": "text/x-python",
   "name": "python",
   "nbconvert_exporter": "python",
   "pygments_lexer": "ipython3",
   "version": "3.10.10"
  },
  "orig_nbformat": 4,
  "vscode": {
   "interpreter": {
    "hash": "aa38ca2d4ac5334f8facb9127846041594939b57ea42b4afe5d7eb655aac64f1"
   }
  }
 },
 "nbformat": 4,
 "nbformat_minor": 2
}
