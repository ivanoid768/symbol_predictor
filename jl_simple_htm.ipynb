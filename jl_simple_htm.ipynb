{
 "cells": [
  {
   "cell_type": "code",
   "execution_count": null,
   "metadata": {},
   "outputs": [],
   "source": []
  },
  {
   "cell_type": "code",
   "execution_count": 9,
   "metadata": {},
   "outputs": [
    {
     "name": "stdout",
     "output_type": "stream",
     "text": [
      "502\n",
      "['a', 'b', 'c', 'd', 'e', 'f', 'g', 'h', 'i', 'j', 'k', 'l', 'm', 'n', 'o', 'p', 'q', 'r', 's', 't', 'u', 'v', 'w', 'x', 'y', 'z', ' ', '.', ',', '<', '\\'', '>']\n"
     ]
    }
   ],
   "source": [
    "f = open(\"temp_text_puh.txt\", \"r\")\n",
    "template_str = read(f, String)\n",
    "close(f)\n",
    "\n",
    "input_str = template_str[1:500]\n",
    "input_str = '<' * input_str * '>'\n",
    "println(length(input_str))\n",
    "letters = ['a', 'b', 'c', 'd', 'e', 'f', 'g', 'h', 'i', 'j', 'k', 'l', 'm', 'n', 'o', 'p', 'q', 'r', 's', 't', 'u',\n",
    "           'v', 'w', 'x', 'y', 'z', ' ', '.', ',', '<', '\\'', '>']\n",
    "println(letters)"
   ]
  },
  {
   "cell_type": "code",
   "execution_count": 10,
   "metadata": {},
   "outputs": [
    {
     "name": "stdout",
     "output_type": "stream",
     "text": [
      "sparse_prob = 0.03125\n"
     ]
    }
   ],
   "source": [
    "# generate SDR\n",
    "\n",
    "SDR_len = 128 # 128\n",
    "sparsity = 4 # 4\n",
    "max_overlap = 1 # 1\n",
    "\n",
    "sparse_prob = sparsity / SDR_len\n",
    "println(\"sparse_prob = $sparse_prob\")\n",
    "\n",
    "letter_SDRs = Dict{Char, Array}()\n",
    "\n",
    "for letter in letters\n",
    "    rnd_SDR = zeros(SDR_len)\n",
    "\n",
    "    while true\n",
    "        rnd_SDR = rand(SDR_len) .< sparse_prob\n",
    "\n",
    "        if sum(rnd_SDR .> 0) != sparsity\n",
    "            continue\n",
    "        end\n",
    "        \n",
    "        is_over_max = false\n",
    "        for SDR in values(letter_SDRs)\n",
    "            if sum(SDR .& rnd_SDR) > max_overlap\n",
    "                is_over_max = true\n",
    "                break\n",
    "            end\n",
    "        end\n",
    "        \n",
    "        if is_over_max\n",
    "            continue\n",
    "        end\n",
    "            \n",
    "        break\n",
    "    end\n",
    "\n",
    "    # println(letter)\n",
    "    letter_SDRs[letter] = rnd_SDR\n",
    "end\n",
    "\n",
    "# for (letter, SDR) in letter_SDRs\n",
    "#     sum_SDR = sum(SDR)\n",
    "#     println(\"$letter : $sum_SDR $SDR\")\n",
    "# end"
   ]
  },
  {
   "cell_type": "code",
   "execution_count": 11,
   "metadata": {},
   "outputs": [
    {
     "name": "stdout",
     "output_type": "stream",
     "text": [
      "len_inp_SDRs=502\n"
     ]
    }
   ],
   "source": [
    "# text to SDRs\n",
    "input_SDRs = []\n",
    "\n",
    "for inp in input_str\n",
    "    push!(input_SDRs, letter_SDRs[inp])\n",
    "end\n",
    "\n",
    "len_inp_SDRs = length(input_SDRs)\n",
    "println(\"len_inp_SDRs=$len_inp_SDRs\")"
   ]
  },
  {
   "cell_type": "code",
   "execution_count": 12,
   "metadata": {},
   "outputs": [
    {
     "data": {
      "text/plain": [
       "Int64"
      ]
     },
     "execution_count": 12,
     "metadata": {},
     "output_type": "execute_result"
    }
   ],
   "source": [
    "typeof(rand(0:32))"
   ]
  },
  {
   "cell_type": "code",
   "execution_count": 13,
   "metadata": {},
   "outputs": [
    {
     "name": "stdout",
     "output_type": "stream",
     "text": [
      "Matrix{Float64}\n",
      "32\n",
      "4\n"
     ]
    }
   ],
   "source": [
    "# init start column\n",
    "column_size = 32\n",
    "\n",
    "start_SDR = letter_SDRs['<']\n",
    "\n",
    "start_I = zeros(length(start_SDR), column_size)\n",
    "println(typeof(start_I))\n",
    "\n",
    "active_start_SDR_idx = findall(start_SDR .== 1)\n",
    "# println(typeof(active_start_SDR_idx))\n",
    "\n",
    "for as_idx in active_start_SDR_idx\n",
    "    rnd_active = rand(1:column_size)\n",
    "    # println(typeof(as_idx), typeof(rnd_active))\n",
    "\n",
    "    start_I[as_idx, rnd_active] = 1\n",
    "end\n",
    "\n",
    "println(length(start_I[128,:]))\n",
    "println(sum(start_I .> 0))\n",
    "\n",
    "# for col in eachcol(start_I)\n",
    "#     println(Int64.(col))\n",
    "# end"
   ]
  },
  {
   "cell_type": "code",
   "execution_count": 14,
   "metadata": {},
   "outputs": [
    {
     "data": {
      "text/plain": [
       "train_one (generic function with 1 method)"
      ]
     },
     "execution_count": 14,
     "metadata": {},
     "output_type": "execute_result"
    }
   ],
   "source": [
    "function train_one(Inp, W, V, SDR_len,column_size,prec,SDR, eps0, eps0_V)\n",
    "    rsh_I = reshape(Inp, (1,1,SDR_len * column_size) )\n",
    "\n",
    "    O = sum(W .* rsh_I, dims=3)\n",
    "    # O = sum((@~ W .* rsh_I), dims = 3)\n",
    "    # println(size(O, 1),' ', size(O,2),' ', size(O,3))\n",
    "\n",
    "    O ./= maximum(abs.(O)) + prec\n",
    "    # println(size(O, 1),' ', size(O,2),' ', size(O,3))\n",
    "    \n",
    "    nV = abs.(V .- reshape(maximum(V, dims=2), (1, SDR_len))')\n",
    "    nV ./= reshape(maximum(nV, dims=2), (1, SDR_len))' .+ prec\n",
    "\n",
    "    # println(size(nV, 1),' ', size(nV,2),' ', size(nV,3))\n",
    "\n",
    "    OV = O .+ (nV .* eps0_V)\n",
    "\n",
    "    OV .*= reshape(SDR, (1, size(SDR, 1)))'\n",
    "    max_O = maximum(OV, dims=2)\n",
    "    # println(size(max_O))\n",
    "    # println(max_O)\n",
    "\n",
    "    O .*= reshape(SDR, (1, size(SDR, 1)))'\n",
    "    # println(size(O))\n",
    "    # println(sum(O .> 0))\n",
    "    # O[OV < max_O[np.newaxis].T] = 0\n",
    "    max_O_T = reshape(max_O, (1, size(max_O, 1)))'\n",
    "    # println(size(max_O_T))\n",
    "    # println(sum(OV .< max_O_T))\n",
    "    O[OV .< max_O_T] .= 0\n",
    "    # println(sum(O .> 0))\n",
    "    # O .*= (OV .>= reshape(max_O, (1, size(max_O, 1)))')\n",
    "    O = reshape(O, (size(O,1), size(O,2)))\n",
    "    max_O_idx = findall(O .!= 0)\n",
    "    # println(max_O_idx)\n",
    "    \n",
    "    mul = W[max_O_idx,:] .* O[max_O_idx]\n",
    "    # println(\"mul \", size(mul))\n",
    "    # println(\"rsh_I \", size(rsh_I))\n",
    "    rsh_I = reshape(rsh_I, (1, SDR_len * column_size))\n",
    "    minu = rsh_I .- mul\n",
    "    # println(\"minu \", size(minu))\n",
    "    # O = reshape(O, (size(O,1), size(O,2), 1))\n",
    "    W[max_O_idx,:] .+= (rsh_I .- W[max_O_idx,:] .* O[max_O_idx]) .* eps0\n",
    "\n",
    "    # winners\n",
    "    V[max_O_idx] .+= 1\n",
    "\n",
    "    # recur\n",
    "    O[O .!= 0] .= 1\n",
    "\n",
    "    Inp = copy(O)\n",
    "\n",
    "    return Inp\n",
    "end"
   ]
  },
  {
   "cell_type": "code",
   "execution_count": 15,
   "metadata": {},
   "outputs": [
    {
     "name": "stdout",
     "output_type": "stream",
     "text": [
      "2959\n",
      "[0; 7; 0; 0; 11; 13; 0; 2; 3; 25; 24; 32; 0; 0; 20; 0; 1; 0; 0; 24; 16; 0; 0; 0; 0; 0; 0; 32; 0; 0; 7; 26; 0; 9; 0; 30; 24; 0; 0; 0; 8; 20; 23; 32; 0; 0; 0; 9; 0; 16; 0; 17; 0; 0; 1; 13; 25; 19; 20; 0; 1; 0; 1; 29; 0; 0; 0; 0; 31; 32; 0; 8; 21; 0; 13; 3; 0; 0; 19; 0; 0; 0; 10; 8; 22; 13; 13; 0; 1; 0; 23; 9; 7; 2; 11; 8; 28; 8; 21; 0; 7; 32; 0; 0; 0; 0; 18; 23; 21; 0; 0; 0; 1; 29; 0; 0; 0; 17; 11; 11; 0; 25; 25; 19; 0; 23; 0; 24;;]\n"
     ]
    }
   ],
   "source": [
    "# import Pkg;\n",
    "# Pkg.add(\"LazyArrays\")\n",
    "\n",
    "using LazyArrays, LinearAlgebra\n",
    "\n",
    "Inp = zeros(SDR_len, column_size)\n",
    "O = zeros(SDR_len, column_size)\n",
    "\n",
    "W = rand(Float64, (SDR_len, column_size, SDR_len * column_size)) * 1e-2\n",
    "\n",
    "V = zeros(SDR_len, column_size)\n",
    "\n",
    "prec = 1e-30\n",
    "\n",
    "# train\n",
    "\n",
    "epoch_cnt = 1\n",
    "\n",
    "eps0 = 0.003\n",
    "\n",
    "eps0_V = 0.09\n",
    "\n",
    "for epoch_idx in range(1, epoch_cnt)\n",
    "    Inp = copy(start_I)\n",
    "\n",
    "    for SDR in input_SDRs[1:end]\n",
    "        Inp = train_one(Inp, W, V, SDR_len, column_size, prec, SDR, eps0, eps0_V)\n",
    "    end\n",
    "end\n",
    "# O.shape\n",
    "# println(mean(V, axis=1))\n",
    "println(sum(V .== 0))\n",
    "println(sum((V .> 0), dims=2))\n",
    "# for col in np.rot90(V):\n",
    "#     print(f'{col.astype(int).tolist()}')"
   ]
  },
  {
   "cell_type": "code",
   "execution_count": 16,
   "metadata": {},
   "outputs": [
    {
     "ename": "LoadError",
     "evalue": "UndefVarError: `np` not defined",
     "output_type": "error",
     "traceback": [
      "UndefVarError: `np` not defined",
      "",
      "Stacktrace:",
      " [1] top-level scope",
      "   @ In[16]:4"
     ]
    }
   ],
   "source": [
    "# test\n",
    "error = []\n",
    "\n",
    "I = np.copy(start_I)\n",
    "\n",
    "for SDR in input_SDRs[1:]:\n",
    "    rsh_I = I.reshape(SDR_len * column_size)\n",
    "\n",
    "    O = np.dot(W, rsh_I)\n",
    "\n",
    "    max_O = np.max(O, axis=1)\n",
    "    argmax_O_idx = np.argsort(max_O)[::-1][:sparsity]\n",
    "\n",
    "    SDR_O = np.zeros(O.shape[0])\n",
    "    SDR_O[argmax_O_idx] = 1\n",
    "\n",
    "    err = (SDR.astype(int) ^ SDR_O.astype(int)).sum()\n",
    "    # print(f'{err=}')\n",
    "    error.append(err)\n",
    "\n",
    "    O *= SDR[np.newaxis].T\n",
    "    max_O = np.max(O, axis=1)\n",
    "    O[O < max_O[np.newaxis].T] = 0\n",
    "\n",
    "    # recur\n",
    "    O[O != 0] = 1\n",
    "\n",
    "    I = np.copy(O)\n",
    "\n",
    "error = np.array(error)\n",
    "mean_percent = int(np.mean(error) / (2 * sparsity) * 100)\n",
    "print(f'{np.mean(error)=} {error.max()=} {error.min()=} {mean_percent=}')\n",
    "\n",
    "# O.shape\n",
    "# for col in np.rot90(O):\n",
    "#     print(f'{col.astype(int).tolist()}')"
   ]
  }
 ],
 "metadata": {
  "kernelspec": {
   "display_name": "Julia 1.9.1",
   "language": "julia",
   "name": "julia-1.9"
  },
  "language_info": {
   "file_extension": ".jl",
   "mimetype": "application/julia",
   "name": "julia",
   "version": "1.9.1"
  },
  "orig_nbformat": 4,
  "vscode": {
   "interpreter": {
    "hash": "aa38ca2d4ac5334f8facb9127846041594939b57ea42b4afe5d7eb655aac64f1"
   }
  }
 },
 "nbformat": 4,
 "nbformat_minor": 2
}
